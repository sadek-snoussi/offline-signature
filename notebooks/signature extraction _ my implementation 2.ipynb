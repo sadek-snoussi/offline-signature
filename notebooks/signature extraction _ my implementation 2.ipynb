{
 "cells": [
  {
   "cell_type": "code",
   "execution_count": 1,
   "id": "f60512ab",
   "metadata": {},
   "outputs": [],
   "source": [
    "import os\n",
    "\n",
    "from skimage import io\n",
    "from skimage import color\n",
    "from skimage import measure, morphology\n",
    "from skimage import util\n",
    "\n",
    "from scipy import signal\n",
    "\n",
    "import matplotlib.pyplot as plt"
   ]
  },
  {
   "cell_type": "code",
   "execution_count": null,
   "id": "c19612ec",
   "metadata": {},
   "outputs": [],
   "source": [
    "def display_image(image, cmap='gray'):\n",
    "    plt.imshow(image, cmap=cmap)\n",
    "    plt.axis('off')\n",
    "    plt.title(\"Shape: {}\".format(image.shape))\n",
    "    plt.show()\n",
    "    \n",
    "data_path = \"C:/Users/Sadek/Documents/GitHub/Project/offline-signature/data\"\n",
    "\n",
    "image_path = os.path.join(data_path + \"/input/doc1.jpg\")\n",
    "# read the input image\n",
    "image = io.imread(image_path)\n",
    "display_image(image)"
   ]
  },
  {
   "cell_type": "code",
   "execution_count": null,
   "id": "31ef3a48",
   "metadata": {},
   "outputs": [],
   "source": [
    "# Convert the image to grayscale\n",
    "image_gray = color.rgb2gray(image)\n",
    "display_image(image_gray)"
   ]
  },
  {
   "cell_type": "markdown",
   "id": "99e963b2",
   "metadata": {},
   "source": [
    "This code performs background subtraction on a 2D grayscale image, which is commonly used in image processing to enhance the contrast and improve the visibility of objects of interest."
   ]
  },
  {
   "cell_type": "code",
   "execution_count": null,
   "id": "4bb48f8e",
   "metadata": {
    "scrolled": false
   },
   "outputs": [],
   "source": [
    "# Estimate the 'background' color by a median filter\n",
    "# Smoothing out the image and reducing noise, while preserving the edges and contours of objects. \n",
    "bg = signal.medfilt2d(image_gray, (11,11))\n",
    "\n",
    "plt.subplot(1, 2, 1)\n",
    "plt.imshow(image, cmap='gray')\n",
    "plt.title('Original Image')\n",
    "\n",
    "plt.subplot(1, 2, 2)\n",
    "plt.imshow(bg, cmap='gray')\n",
    "plt.title('Estimated Background')\n",
    "\n",
    "plt.show()"
   ]
  },
  {
   "cell_type": "markdown",
   "id": "3d621079",
   "metadata": {},
   "source": [
    "Pixels in `image_gray` that are below the threshold are assigned a value of 1 in the binary mask, while pixels that are equal to or above the threshold are assigned a value of 0. This has the effect of highlighting the areas of the image that are significantly darker than their surrounding background, which often correspond to the objects of interest in the image.\n",
    "\n",
    "The reason for subtracting **0.1** from the **bg** variable in the second line of code is to adjust the threshold for generating the binary mask. The **bg** variable represents the smoothed image, which can be thought of as an estimate of the background intensity levels in the image. By subtracting **0.1** from **bg**, we effectively **lower the threshold** for detecting foreground objects in the image.\n",
    "\n",
    "In other words, pixels in the original image that are at least **0.1** units darker than the estimated background in the smoothed image will be considered part of the foreground in the resulting binary mask. This small adjustment to the threshold can help to ensure that the binary mask accurately captures the regions of the image that correspond to the objects of interest, while minimizing the inclusion of noise or other artifacts in the mask.\n",
    "\n",
    "To some-up, the mask variable is generated using a simple thresholding operation based on the median filter of the grayscale input image."
   ]
  },
  {
   "cell_type": "code",
   "execution_count": null,
   "id": "49e2e245",
   "metadata": {},
   "outputs": [],
   "source": [
    "mask = image_gray < bg - 0.01\n",
    "display_image(mask)"
   ]
  },
  {
   "cell_type": "code",
   "execution_count": null,
   "id": "4cc38312",
   "metadata": {},
   "outputs": [],
   "source": [
    "# connected component analysis by scikit-learn framework\n",
    "blobs = mask > mask.mean()\n",
    "display_image(blobs)"
   ]
  },
  {
   "cell_type": "markdown",
   "id": "5caabff8",
   "metadata": {},
   "source": [
    "The `mask` and `blobs` are both binary masks, but they represent different information in the image.\n",
    "\n",
    "The `mask` is created by thresholding the original grayscale image and then applying a median filter to remove noise and smooth the image. The resulting `mask` binary image represents the regions of the original image that are above a certain intensity threshold, after smoothing out the noise.\n",
    "\n",
    "The `blobs` binary mask is created by thresholding the `mask` image again, but this time using the mean intensity value of the mask image as the threshold. The resulting blobs binary `mask` represents the connected regions in the `mask` image that have intensities greater than the mean intensity value of the entire `mask` image. In other words, `blobs` identifies areas of the `mask` image that have a relatively high intensity compared to the rest of the image.\n",
    "\n",
    "Therefore, while `mask` is a binary image that highlights regions of the original image that are above a certain threshold, `blobs` is a binary image that highlights connected regions of the mask image that have a relatively high intensity compared to the mean intensity of the entire `mask` image. `blobs` can be useful for identifying specific features of interest in the `mask` image, such as text or signatures, that have higher intensities than the surrounding areas.\n",
    "\n",
    "The `mask` variable includes both foreground and background pixels, while the `blobs` variable includes only the most prominent foreground objects in the image."
   ]
  },
  {
   "cell_type": "code",
   "execution_count": null,
   "id": "c911392d",
   "metadata": {},
   "outputs": [],
   "source": [
    "blobs_labels = measure.label(blobs, background=0)\n",
    "image_label_overlay = color.label2rgb(blobs_labels, image=image)"
   ]
  },
  {
   "cell_type": "markdown",
   "id": "3f544fb7",
   "metadata": {},
   "source": [
    "This line uses the Scikit-image library to label the connected components in the binary mask `blobs`. Specifically, the `measure.label()` function assigns a unique integer label to each connected component in `blobs` and returns a new 2D array `blobs_labels` with the same shape as `blobs`, where each pixel is assigned the integer label of its corresponding connected component.\n",
    "\n",
    "The `background` argument in this function call indicates the label value assigned to the background pixels, which are those that are not part of any connected component. In this case, a value of 1 is used to indicate that background pixels should be labeled with the integer value 1."
   ]
  },
  {
   "cell_type": "code",
   "execution_count": null,
   "id": "649362b7",
   "metadata": {},
   "outputs": [],
   "source": [
    "fig, ax = plt.subplots(figsize=(10, 6))\n",
    "\n",
    "# plot the connected components (for debugging)\n",
    "display_image(image_label_overlay)"
   ]
  },
  {
   "cell_type": "code",
   "execution_count": null,
   "id": "2777459b",
   "metadata": {
    "scrolled": true
   },
   "outputs": [],
   "source": [
    "len(np.unique(blobs_labels, return_index=False))"
   ]
  },
  {
   "cell_type": "code",
   "execution_count": null,
   "id": "d1e7cfbd",
   "metadata": {},
   "outputs": [],
   "source": [
    "the_biggest_component = 0\n",
    "total_area = 0\n",
    "counter = 0\n",
    "average = 0.0\n",
    "\n",
    "for region in measure.regionprops(blobs_labels):\n",
    "    if (region.area > 10):\n",
    "        total_area = total_area + region.area\n",
    "        counter = counter + 1\n",
    "    # take regions with large enough areas\n",
    "    if (region.area >= 250):\n",
    "        if (region.area > the_biggest_component):\n",
    "            the_biggest_component = region.area\n",
    "\n",
    "average = (total_area/counter)\n",
    "\n",
    "print(\"the_biggest_component: \" + str(the_biggest_component))\n",
    "print(\"average: \" + str(average))"
   ]
  },
  {
   "cell_type": "code",
   "execution_count": null,
   "id": "794d8622",
   "metadata": {},
   "outputs": [],
   "source": [
    "# Get the properties of each labeled region, including its area and centroid\n",
    "regions = measure.regionprops(blobs_labels)\n",
    "\n",
    "# Find the largest connected component by area\n",
    "largest_region = max(regions, key=lambda x: x.area)\n",
    "\n",
    "# Extract the bounding box coordinates of the largest component\n",
    "minr, minc, maxr, maxc = largest_region.bbox\n",
    "\n",
    "# Display the original image with the largest component outlined in red\n",
    "fig, ax = plt.subplots()\n",
    "ax.imshow(image, cmap='gray')\n",
    "ax.add_patch(plt.Rectangle((minc, minr), maxc - minc, maxr - minr,\n",
    "                            fill=False, edgecolor='red', linewidth=2))\n",
    "plt.show()"
   ]
  },
  {
   "cell_type": "code",
   "execution_count": null,
   "id": "602a9fc9",
   "metadata": {},
   "outputs": [],
   "source": [
    "# Get the coordinates of the largest component's contour\n",
    "contours = measure.find_contours(blobs_labels == largest_region.label, 0.5)\n",
    "\n",
    "# Display the original image with the largest component's contour overlaid in red\n",
    "fig, ax = plt.subplots()\n",
    "ax.imshow(image, cmap='gray')\n",
    "for contour in contours:\n",
    "    ax.plot(contour[:, 1], contour[:, 0], linewidth=2, c='red')\n",
    "plt.show()"
   ]
  },
  {
   "cell_type": "code",
   "execution_count": null,
   "id": "b223c987",
   "metadata": {},
   "outputs": [],
   "source": [
    "# the parameters are used to remove small size connected pixels outliar \n",
    "constant_parameter_1 = 10\n",
    "constant_parameter_2 = 100\n",
    "constant_parameter_3 = 100\n",
    "\n",
    "# the parameter is used to remove big size connected pixels outliar\n",
    "constant_parameter_4 = 18\n",
    "\n",
    "# a4_small_size_outliar_constant is used as a threshold value to remove connected outliar connected pixels\n",
    "# are smaller than a4_small_size_outliar_constant for A4 size scanned documents\n",
    "a4_small_size_outliar_constant = ((average/constant_parameter_1)*constant_parameter_2)+constant_parameter_3\n",
    "print(\"a4_small_size_outliar_constant: \" + str(a4_small_size_outliar_constant))"
   ]
  },
  {
   "cell_type": "code",
   "execution_count": null,
   "id": "c6bf8d68",
   "metadata": {},
   "outputs": [],
   "source": [
    "# a4_big_size_outliar_constant is used as a threshold value to remove outliar connected pixels\n",
    "# are bigger than a4_big_size_outliar_constant for A4 size scanned documents\n",
    "a4_big_size_outliar_constant = a4_small_size_outliar_constant*constant_parameter_4\n",
    "print(\"a4_big_size_outliar_constant: \" + str(a4_big_size_outliar_constant))"
   ]
  },
  {
   "cell_type": "code",
   "execution_count": null,
   "id": "64844fa9",
   "metadata": {
    "scrolled": false
   },
   "outputs": [],
   "source": [
    "# remove the connected pixels are smaller than a4_small_size_outliar_constant\n",
    "pre_version = morphology.remove_small_objects(blobs_labels, a4_small_size_outliar_constant)\n",
    "display_image(pre_version)"
   ]
  },
  {
   "cell_type": "markdown",
   "id": "521f8775",
   "metadata": {},
   "source": [
    "Choosing a threshold of 0.5 means that any pixel value less than 0.5 is considered part of the background and any pixel value greater than or equal to 0.5 is considered part of the foreground."
   ]
  },
  {
   "cell_type": "code",
   "execution_count": null,
   "id": "7f7a69c7",
   "metadata": {},
   "outputs": [],
   "source": [
    "threshold = 0.5\n",
    "binary_image = util.img_as_bool(np.array(pre_version > threshold))\n",
    "display_image(binary_image)"
   ]
  },
  {
   "cell_type": "code",
   "execution_count": null,
   "id": "8b52f137",
   "metadata": {},
   "outputs": [],
   "source": [
    "label_img = measure.label(binary_image)\n",
    "regions = measure.regionprops(label_img, intensity_image=image)"
   ]
  },
  {
   "cell_type": "code",
   "execution_count": null,
   "id": "20b36555",
   "metadata": {},
   "outputs": [],
   "source": [
    "import matplotlib.patches as mpatches\n",
    "\n",
    "# Plot the original image\n",
    "fig, ax = plt.subplots(figsize=(10,10))\n",
    "ax.imshow(image, cmap='gray')\n",
    "\n",
    "# Plot the contours of each component on the image\n",
    "for region in regions:\n",
    "    label = region.label\n",
    "    coords = region.coords\n",
    "    x = coords[:, 1]\n",
    "    y = coords[:, 0]\n",
    "    color = np.random.rand(3,)\n",
    "    ax.plot(x, y, '.', color=color, markersize=1)\n",
    "    ax.plot(x, y, color=color, linewidth=0.5)\n",
    "\n",
    "\n",
    "# Add legend\n",
    "handles = [mpatches.Patch(color=np.random.rand(3,), label=f'Component {i+1}') for i in range(len(regions))]\n",
    "plt.legend(handles=handles, bbox_to_anchor=(1, 1), loc='upper left')\n",
    "\n",
    "plt.axis('off')\n",
    "plt.show()"
   ]
  },
  {
   "cell_type": "code",
   "execution_count": null,
   "id": "fbbe5ede",
   "metadata": {
    "scrolled": true
   },
   "outputs": [],
   "source": [
    "# Find the bounding box of the signature\n",
    "bb = regions[0].bbox\n",
    "x1, y1, x2, y2 = bb\n",
    "\n",
    "# Crop the image\n",
    "target = image[x1:x2, y1:y2, :]\n",
    "\n",
    "# Remove single-dimensional entries from the shape of the array\n",
    "target = target.squeeze()\n",
    "\n",
    "display_image(target)"
   ]
  },
  {
   "cell_type": "code",
   "execution_count": null,
   "id": "0a687946",
   "metadata": {
    "scrolled": true
   },
   "outputs": [],
   "source": [
    "target_mask = binary_image[x1:x2, y1:y2]\n",
    "display_image(target_mask)"
   ]
  },
  {
   "cell_type": "code",
   "execution_count": null,
   "id": "b480950f",
   "metadata": {},
   "outputs": [],
   "source": [
    "selection = np.ones_like(target) * 255\n",
    "selection[target_mask == 1] = target[target_mask == 1]\n",
    "plt.imshow(selection)"
   ]
  },
  {
   "cell_type": "code",
   "execution_count": null,
   "id": "327d1fe5",
   "metadata": {},
   "outputs": [],
   "source": []
  },
  {
   "cell_type": "code",
   "execution_count": null,
   "id": "e064a8b0",
   "metadata": {},
   "outputs": [],
   "source": [
    "import plotly\n",
    "import plotly.express as px\n",
    "import plotly.graph_objects as go\n",
    "from skimage.measure import label\n",
    "\n",
    "binary_image = util.img_as_bool(np.array(pre_version > 0.5))\n",
    "label_img = label(binary_image)\n",
    "props = regionprops(label_img, intensity_image=image)\n",
    "\n",
    "fig = px.imshow(image, binary_string=True)\n",
    "fig.update_traces(hoverinfo='skip') # hover is only for label info\n",
    "\n",
    "properties = ['area', 'eccentricity', 'perimeter', 'intensity_mean']\n",
    "\n",
    "# For each label, add a filled scatter trace for its contour,\n",
    "# and display the properties of the label in the hover of this trace.\n",
    "for index in range(label_img.max()):\n",
    "    label_i = props[index].label\n",
    "    contour = measure.find_contours(label_img == label_i, 0.5)[0]\n",
    "    y, x = contour.T\n",
    "    hoverinfo = ''\n",
    "    for prop_name in properties:\n",
    "        prop_value = getattr(props[index], prop_name)\n",
    "        if type(prop_value) == np.ndarray:\n",
    "            prop_value = prop_value[0]\n",
    "        hoverinfo += f'<b>{prop_name}: {prop_value:.2f}</b><br>'\n",
    "    fig.add_trace(go.Scatter(\n",
    "        x=x, y=y, name=label_i,\n",
    "        mode='lines', fill='toself', showlegend=False,\n",
    "        hovertemplate=hoverinfo, hoveron='points+fills'))\n",
    "\n",
    "plotly.io.show(fig)"
   ]
  },
  {
   "cell_type": "code",
   "execution_count": null,
   "id": "453adae8",
   "metadata": {},
   "outputs": [],
   "source": [
    "import plotly\n",
    "import plotly.express as px\n",
    "import plotly.graph_objects as go\n",
    "\n",
    "fig = px.imshow(image, binary_string=True)\n",
    "fig.update_traces(hoverinfo='skip') # hover is only for label info\n",
    "\n",
    "properties = ['area', 'eccentricity', 'perimeter', 'intensity_mean']\n",
    "\n",
    "# For each label, add a filled scatter trace for its contour,\n",
    "# and display the properties of the label in the hover of this trace.\n",
    "for index in range(labels.max()):\n",
    "    label_i = props[index].label\n",
    "    contour = measure.find_contours(labels == label_i, 0.5)[0]\n",
    "    y, x = contour.T\n",
    "    hoverinfo = ''\n",
    "    for prop_name in properties:\n",
    "        prop_value = getattr(props[index], prop_name)\n",
    "        if type(prop_value) == np.ndarray:\n",
    "            prop_value = prop_value[0]\n",
    "        hoverinfo += f'<b>{prop_name}: {prop_value:.2f}</b><br>'\n",
    "    fig.add_trace(go.Scatter(\n",
    "        x=x, y=y, name=label_i,\n",
    "        mode='lines', fill='toself', showlegend=False,\n",
    "        hovertemplate=hoverinfo, hoveron='points+fills'))\n",
    "\n",
    "plotly.io.show(fig)"
   ]
  },
  {
   "cell_type": "code",
   "execution_count": null,
   "id": "2a191647",
   "metadata": {},
   "outputs": [],
   "source": [
    "threshold = 0.5\n",
    "binary_image = util.img_as_bool(np.array(pre_version > threshold))\n",
    "label_img = label(binary_image)\n",
    "regions = regionprops(label_img, intensity_image=image)\n",
    "\n",
    "import plotly\n",
    "import plotly.express as px\n",
    "import plotly.graph_objects as go\n",
    "\n",
    "fig = px.imshow(image, binary_string=True)\n",
    "fig.update_traces(hoverinfo='skip')\n",
    "\n",
    "properties = ['area', 'eccentricity', 'perimeter', 'mean_intensity']\n",
    "\n",
    "for region in regions:\n",
    "    label_i = region.label\n",
    "    contour = measure.find_contours(label_img == label_i, 0.5)[0]\n",
    "    y, x = contour.T\n",
    "    hoverinfo = ''\n",
    "    for prop_name in properties:\n",
    "        prop_value = getattr(region, prop_name)\n",
    "        if type(prop_value) == np.ndarray:\n",
    "            prop_value = prop_value[0]\n",
    "        hoverinfo += f'<b>{prop_name}: {prop_value:.2f}</b><br>'\n",
    "    fig.add_trace(go.Scatter(\n",
    "        x=x, y=y, name=label_i,\n",
    "        mode='lines', fill='toself', showlegend=False,\n",
    "        hovertemplate=hoverinfo, hoveron='points+fills'))\n",
    "\n",
    "plotly.io.show(fig)\n"
   ]
  },
  {
   "cell_type": "code",
   "execution_count": null,
   "id": "2e19ec7b",
   "metadata": {},
   "outputs": [],
   "source": [
    "regions"
   ]
  },
  {
   "cell_type": "code",
   "execution_count": null,
   "id": "4f9f413c",
   "metadata": {},
   "outputs": [],
   "source": []
  },
  {
   "cell_type": "code",
   "execution_count": null,
   "id": "4bead52e",
   "metadata": {},
   "outputs": [],
   "source": []
  },
  {
   "cell_type": "code",
   "execution_count": null,
   "id": "b9040933",
   "metadata": {},
   "outputs": [],
   "source": [
    "blobs_labels = measure.label(blobs, background=1)\n",
    "image_label_overlay = color.label2rgb(blobs_labels, image=blobs)\n",
    "\n",
    "fig, ax = plt.subplots(figsize=(10, 6))\n",
    "\n",
    "# plot the connected components (for debugging)\n",
    "ax.imshow(image_label_overlay)\n",
    "ax.set_axis_off()\n",
    "plt.tight_layout()\n",
    "plt.show()"
   ]
  },
  {
   "cell_type": "code",
   "execution_count": null,
   "id": "02e163ef",
   "metadata": {},
   "outputs": [],
   "source": [
    "import matplotlib.pyplot as plt\n",
    "from skimage.measure import label, regionprops\n",
    "from skimage.segmentation import mark_boundaries\n",
    "\n",
    "# Label the connected components\n",
    "labels = label(blobs)\n",
    "\n",
    "# Extract properties of the components\n",
    "props = regionprops(labels)\n",
    "\n",
    "# Display the original image with outlines around the components\n",
    "fig, ax = plt.subplots()\n",
    "ax.imshow(image_gray, cmap='gray')\n",
    "for prop in props:\n",
    "    minr, minc, maxr, maxc = prop.bbox\n",
    "    rect = plt.Rectangle((minc, minr), maxc - minc, maxr - minr, fill=False, edgecolor='red', linewidth=2)\n",
    "    ax.add_patch(rect)\n",
    "plt.show()"
   ]
  }
 ],
 "metadata": {
  "kernelspec": {
   "display_name": "Python 3 (ipykernel)",
   "language": "python",
   "name": "python3"
  },
  "language_info": {
   "codemirror_mode": {
    "name": "ipython",
    "version": 3
   },
   "file_extension": ".py",
   "mimetype": "text/x-python",
   "name": "python",
   "nbconvert_exporter": "python",
   "pygments_lexer": "ipython3",
   "version": "3.9.16"
  }
 },
 "nbformat": 4,
 "nbformat_minor": 5
}
